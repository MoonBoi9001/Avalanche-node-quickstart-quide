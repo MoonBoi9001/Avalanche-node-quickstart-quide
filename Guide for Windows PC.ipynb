{
 "cells": [
  {
   "cell_type": "markdown",
   "metadata": {},
   "source": [
    "# Prerequisites"
   ]
  },
  {
   "cell_type": "code",
   "execution_count": null,
   "metadata": {},
   "outputs": [],
   "source": []
  },
  {
   "cell_type": "markdown",
   "metadata": {},
   "source": [
    "#### 1. Download & install latest full version of CMDER \n",
    "\n",
    "#### (linux terminal emulator for windows, allows you to log into your server)\n",
    "\n",
    "#### https://cmder.app/  "
   ]
  },
  {
   "cell_type": "code",
   "execution_count": null,
   "metadata": {},
   "outputs": [],
   "source": []
  },
  {
   "cell_type": "markdown",
   "metadata": {},
   "source": [
    "#### 2. Create an account on github.com\n",
    "#### https://github.com/signup?source=login"
   ]
  },
  {
   "cell_type": "code",
   "execution_count": null,
   "metadata": {},
   "outputs": [],
   "source": []
  },
  {
   "cell_type": "markdown",
   "metadata": {},
   "source": [
    "#### 3. Generate a new SSH keypair to log securely into your server with, if you do not already have a SSH keypair on your PC.\n",
    "#### To check if you already have one, go to the following directory on your windows pc\n",
    "#### C:/Users/{enter your username here}/.ssh\n",
    "#### If you see a file that says id_rsa and a seperate file that says id_rsa.pub then you alread have a keypair that you can use.\n",
    "#### If you don't have any files or the .ssh directory doesn't exist then you will have to make a keypair, follow the steps below:\n",
    "#### Create a suitable folder e.g \"hetzner_germany_avax_server_AX41-NVME\" in this directoy  C:/Users/{enter your username here}/.ssh for saving your ssh keys inside.\n",
    "#### Open the newly created folder.\n",
    "#### Launch command prompt by typing cmd into windows search and pressing enter, this will launch a terminal window.\n",
    "#### Type \"ssh-keygen\" into the terminal window.\n",
    "#### Enter a file to save your ssh keypair e.g C:/Users/{enter your username here}/.ssh/{enter your folder name here}/id_rsa\n",
    "#### Enter a SECURE key passphrase which will keep your SSH key encrypted on your windows device, you NEED to remember this!\n",
    "#### Confirm that the newly created keypair is saved into the new folder you created previously.\n",
    "#### Copy the file that says id_rsa (not the one that says id_rsa.pub).\n",
    "#### Go to the following directory on your windows pc:\n",
    "#### C:/Users/{enter your username here}/.ssh\n",
    "#### Paste a copy of your file id_rsa into this directory.\n",
    "#### Go to the following directory on your windows pc.\n",
    "#### C:/Users/{enter your username here}/.ssh/{enter your folder name here}\n",
    "#### Open the file that says id_rsa.pub in notepad and then minimise notepad, you will come back to it later, you can close the file directoy explorer now."
   ]
  },
  {
   "cell_type": "code",
   "execution_count": null,
   "metadata": {},
   "outputs": [],
   "source": []
  },
  {
   "cell_type": "markdown",
   "metadata": {},
   "source": [
    "# Guide starts here if you have completed the prerequsites "
   ]
  },
  {
   "cell_type": "code",
   "execution_count": null,
   "metadata": {},
   "outputs": [],
   "source": []
  },
  {
   "cell_type": "markdown",
   "metadata": {},
   "source": [
    "#### Start by purchasing AX41-NVME on Hetzner in Germany or Finland, be cognizant of 1-off setup fees\n",
    "#### https://www.hetzner.com/dedicated-rootserver/ax41-nvme/configurator#/\n",
    "#### Keep the option Primary IPv4 checked and selected, you will need it\n",
    "#### Select latest version of Ubuntu LTS, in my case, at the time of writing, this is Ubuntu 22.04.1 LTS (base)\n",
    "#### Upgrade to ECC RAM near the bottom of the order page if you want (not needed)\n",
    "#### Click order, which will take you to the checkout page, on the checkout page you will see you can specify to login to your server with password or public key. You will use public key. If you followed the earlier part of my guide then your notepad is open already and you can copy your public key. Paste your public key into the key data field and then save and complete your order. If you are not sure where to find your public key then go to the following directory C:/Users/{enter your username here}/.ssh and find the file that says id_rsa.pub. \n",
    "#### You will have to wait up to a few hours untill the server is available."
   ]
  },
  {
   "cell_type": "code",
   "execution_count": null,
   "metadata": {},
   "outputs": [],
   "source": []
  },
  {
   "cell_type": "markdown",
   "metadata": {},
   "source": [
    "#### When configured you will get an email, you can check the configuration at: https://robot.hetzner.com/server\n",
    "#### Copy your new AX41-NVME servers IP, if it doesn't show up, it's probably not configured yet, this can take a few hours.\n",
    "#### Launch cmder then type:\n",
    "\n",
    "# ssh root@{ip}\n",
    "\n",
    "#### Make sure to replace \"{ip}\" with the AX41-NVME ip address you copied from the link above.\n",
    "#### Type yes to trust your new servers key fingerprint.\n",
    "#### When prompted to enter passphrase for your ssh keypair enter the passphrase you setup earlier when you generated the ssh keypair."
   ]
  },
  {
   "cell_type": "code",
   "execution_count": null,
   "metadata": {},
   "outputs": [],
   "source": []
  },
  {
   "cell_type": "markdown",
   "metadata": {},
   "source": [
    "# Congrats you are now logged into your new server and ready to beging configuring it to validate the Avalanche network"
   ]
  },
  {
   "cell_type": "code",
   "execution_count": null,
   "metadata": {},
   "outputs": [],
   "source": []
  },
  {
   "cell_type": "markdown",
   "metadata": {},
   "source": [
    "#### Type the following into your server 1 by 1:"
   ]
  },
  {
   "cell_type": "markdown",
   "metadata": {},
   "source": [
    "# sudo apt update && sudo apt upgrade\n",
    "#### The above line updates the package list and the installed packages to the latest versions.\n",
    "#### Y (to continue) and may also need to press okay a few times during the configuration process, you don't need to restart any more processes than recommended, just press enter."
   ]
  },
  {
   "cell_type": "markdown",
   "metadata": {},
   "source": [
    "# sudo adduser mainuser\n",
    "#### The above line create a new user account on the server called \"mainuser\".\n",
    "#### Set a new password, doesn't really matter what you set it to as you won't use it, just make it sufficiently complex so its not hacked before you disable password login (make sure to rememer it though!!!).\n",
    "#### Press enter a few times to set default new user values.\n",
    "#### Press Y to show information is correct."
   ]
  },
  {
   "cell_type": "markdown",
   "metadata": {},
   "source": [
    "# usermod -aG sudo mainuser\n",
    "#### The above line adds the user you created \"mainuser\" to the list of accounts that can do sudo commands.\n",
    "#### Log out of your server by closing cmder.\n",
    "#### Relaunch cmder."
   ]
  },
  {
   "cell_type": "markdown",
   "metadata": {},
   "source": [
    "# ssh mainuser@{ip}\n",
    "#### Press enter to skip ssh passphrase.\n",
    "#### Enter your newly created main user password (the one you were supposed to remember).\n",
    "#### If you take too long then it may say \"Connection closed by '{ip}' port 22\", just try again but do it faster this time."
   ]
  },
  {
   "cell_type": "markdown",
   "metadata": {},
   "source": [
    "# mkdir -p ~/.ssh\n",
    "#### Open the id_rsa.pub file in your ssh directoy C:/Users/{enter your username here}/.ssh using notepad and then copy the ENTIRE contents of the file.\n",
    "#### Once the public key string is copied go back to cmder where you are logged into your new hetzner server."
   ]
  },
  {
   "cell_type": "markdown",
   "metadata": {},
   "source": [
    "# echo {public_key_string} >> ~/.ssh/authorized_keys\n",
    "#### Make sure to replace \"{public_key_string}\" with your ENTIRE ssh public key string that you coped from notepad.\n",
    "#### Accept the warning message that the long text may make the console non-responsive."
   ]
  },
  {
   "cell_type": "markdown",
   "metadata": {},
   "source": [
    "#### Verify the above line worked with the following where you will see your key:\n",
    "# nano /home/mainuser/.ssh/authorized_keys"
   ]
  },
  {
   "cell_type": "code",
   "execution_count": null,
   "metadata": {},
   "outputs": [],
   "source": []
  },
  {
   "cell_type": "markdown",
   "metadata": {},
   "source": [
    "# chmod -R go= ~/.ssh\n",
    "# chown -R mainuser:mainuser ~/.ssh\n",
    "# sudo nano /etc/ssh/sshd_config\n",
    "####  Enter your created main user password (the one you were supposed to remember).\n",
    "#### Find and change the following lines:\n",
    "# PermitRootLogin yes\n",
    "# PubkeyAuthentication yes\n",
    "# PasswordAuthentication no\n",
    "# PermitEmptyPasswords yes\n",
    "#### Then press Ctrl + x, then press Y to save modified buffer, then write the file to the existing file by simply pressing enter."
   ]
  },
  {
   "cell_type": "markdown",
   "metadata": {},
   "source": [
    "# sudo systemctl restart ssh\n",
    "# sudo apt install ufw\n",
    "# sudo ufw allow ssh\n",
    "# sudo ufw enable\n",
    "#### Press y to proceed.\n",
    "# sudo ufw status numbered\n",
    "#### You should see that ssh is allowed in from anywhere on port 22.\n",
    "# sudo visudo\n",
    "#### Enter the following line:\n",
    "# mainuser ALL=(ALL) NOPASSWD:ALL\n",
    "#### I think you can enter the above line anywhere, but i put it under the \"# user privilege specification\" section.\n",
    "#### Save the file with Crtl + x, then press Y, then enter to save the modified buffer.\n",
    "# sudo passwd -d \\`whoami`"
   ]
  },
  {
   "cell_type": "markdown",
   "metadata": {},
   "source": [
    "#### Now go to https://go.dev/dl/ to find the latest linux version of golang.\n",
    "#### You want to find the version that ends with .linux-amd64.tar.gz.\n",
    "#### At the time of writing the latest version is go1.20.2.linux-amd64.tar.gz.\n",
    "#### Copy this version name \"go1.20.2.linux-amd64.tar.gz\", or the latest version available when you check.\n",
    "#### Change the following two lines of code to account for the latest verison, then enter them into your cmder server connection:\n",
    "# wget -c https://golang.org/dl/go1.20.2.linux-amd64.tar.gz\n",
    "# sudo tar -C /usr/local -xvzf go1.20.2.linux-amd64.tar.gz\n",
    "# sudo chown -R mainuser:mainuser /usr/local/go"
   ]
  },
  {
   "cell_type": "code",
   "execution_count": null,
   "metadata": {},
   "outputs": [],
   "source": []
  },
  {
   "cell_type": "markdown",
   "metadata": {},
   "source": [
    "# mkdir -p ~/go_projects/{bin,src,pkg}\n",
    "# cd ~/go_projects\n",
    "# ls\n",
    "#### Uou should now see the 3 folders you just created :).\n",
    "# nano ~/.profile\n",
    "#### Add the following following lines to the nano file without the \"#\" (you can paste them above the line that says #if running bash):"
   ]
  },
  {
   "cell_type": "code",
   "execution_count": null,
   "metadata": {},
   "outputs": [],
   "source": [
    "#export GOPATH=$HOME/go\n",
    "#export PATH=$PATH:$GOPATH/bin\n",
    "#export PATH=$PATH:$GOPATH/bin:/usr/local/go/bin\n",
    "#export PATH=$PATH:/usr/local/go/bin\n",
    "#export GOPATH=\"$HOME/go_projects\"\n",
    "#export GOBIN=\"$GOPATH/bin\""
   ]
  },
  {
   "cell_type": "markdown",
   "metadata": {},
   "source": [
    "#### Press okay to continue the multiline paste.\n",
    "#### Press Ctrl + x, press y, press enter."
   ]
  },
  {
   "cell_type": "markdown",
   "metadata": {},
   "source": [
    "# . ~/.profile"
   ]
  },
  {
   "cell_type": "markdown",
   "metadata": {},
   "source": [
    "# echo $PATH"
   ]
  },
  {
   "cell_type": "markdown",
   "metadata": {},
   "source": [
    "# go version\n",
    "#### Should print out the version of go you downloaded if you have completed the above steps successfully, if not then check the steps above again"
   ]
  },
  {
   "cell_type": "markdown",
   "metadata": {},
   "source": [
    "#### Now you need to link your github account with your server via SSH so you can download avalanchego from github, follow the steps below"
   ]
  },
  {
   "cell_type": "markdown",
   "metadata": {},
   "source": [
    "# cd /home/mainuser/.ssh\n",
    "# ssh-keygen -t ed25519 -C \"your_github_email@example.com\"\n",
    "#### Press enter to accept default file save location.\n",
    "#### Enter passphrase if desired.\n",
    "#### The next line of code will show the new ssh keys.\n",
    "# ls -al ~/.ssh\n",
    "# nano ~/.ssh/id_ed25519.pub\n",
    "#### Copy the ENTIRE contents of the .pub file to windows clipboard, do this simply by highlighting the text and it will auto copy.\n",
    "#### Press Ctrl + x, you should not need to press y or enter as you have not modified the file.\n",
    "#### Now go to https://github.com/settings/keys\n",
    "#### Press new ssh key and then paste the .pub file contents into github, set a appropriate title e.g \"AVAX Server AX41-NVME\" and click save."
   ]
  },
  {
   "cell_type": "markdown",
   "metadata": {},
   "source": [
    "# cd $GOPATH"
   ]
  },
  {
   "cell_type": "markdown",
   "metadata": {},
   "source": [
    "# mkdir -p src/github.com/ava-labs\n",
    "# cd src/github.com/ava-labs\n",
    "# git clone git@github.com:ava-labs/avalanchego.git \n",
    "#### Accept the key fingerprint and continue connection with \"yes\".\n",
    "#### Enter your passphrase for your SSH key if you created one.\n",
    "# cd avalanchego\n",
    "# sudo apt-get install build-essential\n",
    "#### Press Y, then press enter twice when prompted.\n",
    "# ./scripts/build.sh"
   ]
  },
  {
   "cell_type": "markdown",
   "metadata": {},
   "source": [
    "# wget -nd -m https://raw.githubusercontent.com/ava-labs/avalanche-docs/master/scripts/avalanchego-installer.sh;\\\n",
    "# chmod 755 avalanchego-installer.sh;\\\n",
    "# ./avalanchego-installer.sh\n",
    "#### Press 2 for cloud provider \n",
    "#### Press n if it doesn't show your IP (it didn't for me)\n",
    "#### Enter your ip that you use to connect to your server.\n",
    "#### Type \"private\" then type \"on\" to turn on state sync (unless you NEED the historical data, TIP: most don't)."
   ]
  },
  {
   "cell_type": "markdown",
   "metadata": {},
   "source": [
    "# sudo systemctl status avalanchego\n",
    "#### The above line should show active (running), if it does then just press q and exit the server and give it a day to bootstrap, come back in 24 hours or so to check in on the progress :)"
   ]
  },
  {
   "cell_type": "code",
   "execution_count": null,
   "metadata": {},
   "outputs": [],
   "source": []
  },
  {
   "cell_type": "markdown",
   "metadata": {},
   "source": [
    "# next day tasks:"
   ]
  },
  {
   "cell_type": "code",
   "execution_count": null,
   "metadata": {},
   "outputs": [],
   "source": [
    "Almost finished!! :D\n",
    "\n",
    "once node is finished bootstrapping you need to backup staker keys\n",
    "\n",
    "scp -r \"ServerUsername\"@xxx.xxx.xxx.xxx:/home/\"ServerUsername\"/.avalanchego/staking C:/Users/\"WindowsUsername\"/avalanche_backup_todays_date\n",
    "\n",
    "to restore staker keys use the following commands:\n",
    "\n",
    "scp C:/Users/Samuel/avalanche_backup_24_10_2022/staking/staker.crt mainuser@65.21.135.150:/home/mainuser/.avalanchego/staking\n",
    "scp C:/Users/Samuel/avalanche_backup_24_10_2022/staking/staker.key mainuser@65.21.135.150:/home/mainuser/.avalanchego/staking\n",
    "scp C:/Users/Samuel/avalanche_backup_24_10_2022/staking/signer.key mainuser@65.21.135.150:/home/mainuser/.avalanchego/staking\n",
    "\n",
    "after restoring staker keys do the following:\n",
    "\n",
    "sudo systemctl stop avalanchego\n",
    "sudo systemctl start avalanchego\n",
    "\n",
    "check system running\n",
    "\n",
    "sudo systemctl status avalanchego"
   ]
  },
  {
   "cell_type": "code",
   "execution_count": null,
   "metadata": {},
   "outputs": [],
   "source": []
  },
  {
   "cell_type": "code",
   "execution_count": null,
   "metadata": {},
   "outputs": [],
   "source": []
  }
 ],
 "metadata": {
  "kernelspec": {
   "display_name": "Python 3",
   "language": "python",
   "name": "python3"
  },
  "language_info": {
   "codemirror_mode": {
    "name": "ipython",
    "version": 3
   },
   "file_extension": ".py",
   "mimetype": "text/x-python",
   "name": "python",
   "nbconvert_exporter": "python",
   "pygments_lexer": "ipython3",
   "version": "3.8.5"
  }
 },
 "nbformat": 4,
 "nbformat_minor": 4
}
